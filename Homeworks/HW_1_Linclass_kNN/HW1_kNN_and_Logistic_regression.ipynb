{
 "cells": [
  {
   "cell_type": "markdown",
   "metadata": {
    "colab_type": "text",
    "id": "v5Fj-ahf25os"
   },
   "source": [
    "# Домашнее задание №1: Классификация. \n",
    "# Логистическая регрессия и kNN."
   ]
  },
  {
   "cell_type": "markdown",
   "metadata": {},
   "source": [
    "*While the machines are being fixed.*"
   ]
  },
  {
   "cell_type": "markdown",
   "metadata": {},
   "source": [
    "Формат сдачи будет объявлен позднее. Либо это будет проверяющая система, либо telegram-бот. "
   ]
  },
  {
   "cell_type": "markdown",
   "metadata": {
    "colab_type": "text",
    "id": "I6Hq7E5o25ou"
   },
   "source": [
    "<span style=\"color: red; font-size: 14pt\">Дедлайны: \n",
    "* ФИВТ, третий курс - 4 марта 23:59\n",
    "* Открытый курс - 7 марта, 23:59\n",
    "</span>"
   ]
  },
  {
   "cell_type": "markdown",
   "metadata": {
    "colab_type": "text",
    "id": "qZX1Urv425ov"
   },
   "source": [
    "### Часть 1. Небольшой numpy-разогрев. (10%)"
   ]
  },
  {
   "cell_type": "code",
   "execution_count": 1,
   "metadata": {
    "colab": {
     "autoexec": {
      "startup": false,
      "wait_interval": 0
     }
    },
    "colab_type": "code",
    "id": "ABwrGwvF25ow"
   },
   "outputs": [],
   "source": [
    "import numpy as np\n",
    "import pandas as pd"
   ]
  },
  {
   "cell_type": "code",
   "execution_count": null,
   "metadata": {
    "colab": {
     "autoexec": {
      "startup": false,
      "wait_interval": 0
     }
    },
    "colab_type": "code",
    "id": "GYgIRlqf25o0"
   },
   "outputs": [],
   "source": [
    "# Создайте случайную матрицу A размерами 10 на 10 из целых чисел от 0 до 100\n",
    "# hint: np.random.randint\n",
    "\n",
    "A = np.random.randint(0,100,(10,10))\n",
    "print(A)\n",
    "print(A.shape)"
   ]
  },
  {
   "cell_type": "code",
   "execution_count": null,
   "metadata": {
    "colab": {
     "autoexec": {
      "startup": false,
      "wait_interval": 0
     }
    },
    "colab_type": "code",
    "id": "7aB62Lzk25o2"
   },
   "outputs": [],
   "source": [
    "# Посчитайте средние значения в матрице по столбцам\n",
    "\n",
    "A.mean(axis=0)"
   ]
  },
  {
   "cell_type": "code",
   "execution_count": null,
   "metadata": {
    "colab": {
     "autoexec": {
      "startup": false,
      "wait_interval": 0
     }
    },
    "colab_type": "code",
    "id": "MTLnNqV425o5"
   },
   "outputs": [],
   "source": [
    "# Транспонируйте матрицу A\n",
    "\n",
    "A.T"
   ]
  },
  {
   "cell_type": "code",
   "execution_count": null,
   "metadata": {
    "colab": {
     "autoexec": {
      "startup": false,
      "wait_interval": 0
     }
    },
    "colab_type": "code",
    "id": "WgDUhrYV25o8"
   },
   "outputs": [],
   "source": [
    "# Перемножьте поэлементно матрицу A и транспонированную матрицу A \n",
    "\n",
    "A * A.T"
   ]
  },
  {
   "cell_type": "code",
   "execution_count": null,
   "metadata": {
    "colab": {
     "autoexec": {
      "startup": false,
      "wait_interval": 0
     }
    },
    "colab_type": "code",
    "id": "xwgLyFDD25o9"
   },
   "outputs": [],
   "source": [
    "# Посчитайте dot product (результат матричного умножения) матрицы A на саму себя и запишите в матрицу B\n",
    "# https://en.wikipedia.org/wiki/Dot_product\n",
    "\n",
    "B = A @ A\n",
    "print(B)"
   ]
  },
  {
   "cell_type": "markdown",
   "metadata": {
    "colab_type": "text",
    "id": "9S8tqIMG25pb"
   },
   "source": [
    "### Часть 2. Логистическая регрессия и kNN."
   ]
  },
  {
   "cell_type": "markdown",
   "metadata": {
    "colab_type": "text",
    "id": "T2docs4225pb"
   },
   "source": [
    "Будем работать с подвыборкой из [данных о типе лесного покрытия из репозитория UCI](http://archive.ics.uci.edu/ml/datasets/Covertype). Доступно 7 различных классов. Каждый объект описывается 54 признаками, 40 из которых являются бинарными. Описание данных доступно по ссылке, а так же в файле `covtype.info.txt`."
   ]
  },
  {
   "cell_type": "code",
   "execution_count": 2,
   "metadata": {
    "colab": {
     "autoexec": {
      "startup": false,
      "wait_interval": 0
     }
    },
    "colab_type": "code",
    "id": "rvPrVRvK25pc"
   },
   "outputs": [],
   "source": [
    "all_data = pd.read_csv('forest_dataset.csv')"
   ]
  },
  {
   "cell_type": "markdown",
   "metadata": {
    "colab_type": "text",
    "id": "DrX0W5si25pe"
   },
   "source": [
    "Выделите 20% данных в `delayed_data` в качестве выборки, на которой будет производиться финальное сравнение моделей, в `all_data` поместите оставшиеся 80%."
   ]
  },
  {
   "cell_type": "code",
   "execution_count": 3,
   "metadata": {
    "colab": {
     "autoexec": {
      "startup": false,
      "wait_interval": 0
     }
    },
    "colab_type": "code",
    "id": "Deu3A-yc25pf"
   },
   "outputs": [],
   "source": [
    "train_size = 0.2\n",
    "ind = int(all_data.shape[0] * train_size)\n",
    "delayed_data = all_data[:ind]\n",
    "all_data = all_data[ind:]\n"
   ]
  },
  {
   "cell_type": "markdown",
   "metadata": {
    "colab_type": "text",
    "id": "itCWxHEY25pg"
   },
   "source": [
    "Выделим значения метки класса в переменную `labels`, признаковые описания в переменную `feature_matrix`. Так как данные числовые и не имеют пропусков, переведем их в `numpy`-формат с помощью метода `.values`."
   ]
  },
  {
   "cell_type": "code",
   "execution_count": 4,
   "metadata": {
    "colab": {
     "autoexec": {
      "startup": false,
      "wait_interval": 0
     }
    },
    "colab_type": "code",
    "id": "f_YIUOuV25ph"
   },
   "outputs": [],
   "source": [
    "labels = all_data[all_data.columns[-1]].values\n",
    "feature_matrix = all_data[all_data.columns[:-1]].values"
   ]
  },
  {
   "cell_type": "markdown",
   "metadata": {
    "colab_type": "text",
    "id": "dKCiU0wz25pj"
   },
   "source": [
    "#### 2.1 Двуклассовая классификация (10%)"
   ]
  },
  {
   "cell_type": "markdown",
   "metadata": {
    "colab_type": "text",
    "id": "LYDttiOJ25pj"
   },
   "source": [
    "Для начала будем работать только с двумя типами лесного покрытия. Обучите линейный классификатор для разделения двух классов. Данные разделите на train и test с помощью `train_test_split`."
   ]
  },
  {
   "cell_type": "code",
   "execution_count": 5,
   "metadata": {
    "colab": {
     "autoexec": {
      "startup": false,
      "wait_interval": 0
     }
    },
    "colab_type": "code",
    "id": "Q030jzyY25pl"
   },
   "outputs": [],
   "source": [
    "from sklearn.model_selection import train_test_split\n",
    "\n",
    "from sklearn.linear_model import LogisticRegression\n",
    "from sklearn.metrics import f1_score, accuracy_score"
   ]
  },
  {
   "cell_type": "code",
   "execution_count": 6,
   "metadata": {
    "colab": {
     "autoexec": {
      "startup": false,
      "wait_interval": 0
     }
    },
    "colab_type": "code",
    "id": "taWX6ME925pn"
   },
   "outputs": [],
   "source": [
    "two_class_labels_indices = (labels == 1) + (labels == 2)\n",
    "\n",
    "two_class_feature_matrix = feature_matrix[two_class_labels_indices]\n",
    "two_class_labels = labels[two_class_labels_indices]"
   ]
  },
  {
   "cell_type": "code",
   "execution_count": 7,
   "metadata": {
    "colab": {
     "autoexec": {
      "startup": false,
      "wait_interval": 0
     }
    },
    "colab_type": "code",
    "id": "zoQPXD_k25po"
   },
   "outputs": [],
   "source": [
    "train_feature_matrix, test_feature_matrix, train_labels, test_labels = train_test_split(two_class_feature_matrix,two_class_labels)"
   ]
  },
  {
   "cell_type": "markdown",
   "metadata": {
    "colab_type": "text",
    "id": "A8iDa9Je25pq"
   },
   "source": [
    "Обучите логистическую регрессию. Оцените качество классификации на отложенной выборке с помощью `accuracy` и `f1_score` ([Wikipedia](https://en.wikipedia.org/wiki/F1_score))."
   ]
  },
  {
   "cell_type": "code",
   "execution_count": 8,
   "metadata": {
    "colab": {
     "autoexec": {
      "startup": false,
      "wait_interval": 0
     }
    },
    "colab_type": "code",
    "id": "9CKtjwv_25pr"
   },
   "outputs": [],
   "source": [
    "lr_clf = LogisticRegression(solver='liblinear')"
   ]
  },
  {
   "cell_type": "code",
   "execution_count": 9,
   "metadata": {
    "colab": {
     "autoexec": {
      "startup": false,
      "wait_interval": 0
     }
    },
    "colab_type": "code",
    "id": "VF2CeR7W25pt"
   },
   "outputs": [
    {
     "name": "stdout",
     "output_type": "stream",
     "text": [
      "Accuracy score: 0.7761542957334892\n",
      "F1 score: 0.7458526874585268\n"
     ]
    }
   ],
   "source": [
    "lr_clf.fit(train_feature_matrix,train_labels)\n",
    "print('Accuracy score:',accuracy_score(test_labels,lr_clf.predict(test_feature_matrix)))\n",
    "print('F1 score:',f1_score(test_labels,lr_clf.predict(test_feature_matrix)))"
   ]
  },
  {
   "cell_type": "markdown",
   "metadata": {
    "colab_type": "text",
    "id": "9MKHZ2JC25pv"
   },
   "source": [
    "#### 2.2 Многоклассовая классификация: логистическая регрессия (40%)"
   ]
  },
  {
   "cell_type": "markdown",
   "metadata": {
    "colab_type": "text",
    "id": "P1mWe4kJ25pv"
   },
   "source": [
    "**Комментарий:**\n",
    "\n",
    "*Логистическая регрессия позволяет решать и задачу многоклассовой классификации. Класс ``LogisticRegression`` позвляет это делать двумя способами:* \n",
    "- *1. Стандартный One vs Rest (т.е. каждый класс отделяется от всех других). Параметр `multi_class='ovr'`.*\n",
    "- *2. Используюя кросс-энтропию (оценивается сразу вектор вероятностей принадлежности классам). Параметр `multi_class='multinomial'`.*\n",
    "\n",
    "*По умолчанию будем использовать второй способ.*\n"
   ]
  },
  {
   "cell_type": "markdown",
   "metadata": {
    "colab_type": "text",
    "id": "BGn7U05I25pw"
   },
   "source": [
    "Теперь будем работать со всеми 7 типами покрытия (данные уже находятся в переменных `feature_matrix` и `labels`, если Вы их не переопределили). Разделите выборку на обучающую и тестовую с помощью метода `train_test_split`, используйте значения параметров `test_size=0.2`, `random_state=42`. Обучите логистическую регрессию  на данном датасете."
   ]
  },
  {
   "cell_type": "code",
   "execution_count": 19,
   "metadata": {
    "colab": {
     "autoexec": {
      "startup": false,
      "wait_interval": 0
     }
    },
    "colab_type": "code",
    "id": "xqzEKcdD25px"
   },
   "outputs": [
    {
     "name": "stderr",
     "output_type": "stream",
     "text": [
      "C:\\Users\\priboi\\Anaconda3\\lib\\site-packages\\sklearn\\utils\\validation.py:595: DataConversionWarning: Data with input dtype int64 was converted to float64 by StandardScaler.\n",
      "  warnings.warn(msg, DataConversionWarning)\n",
      "C:\\Users\\priboi\\Anaconda3\\lib\\site-packages\\sklearn\\utils\\validation.py:595: DataConversionWarning: Data with input dtype int64 was converted to float64 by StandardScaler.\n",
      "  warnings.warn(msg, DataConversionWarning)\n",
      "C:\\Users\\priboi\\Anaconda3\\lib\\site-packages\\sklearn\\utils\\validation.py:595: DataConversionWarning: Data with input dtype int64 was converted to float64 by StandardScaler.\n",
      "  warnings.warn(msg, DataConversionWarning)\n"
     ]
    }
   ],
   "source": [
    "from sklearn.preprocessing import StandardScaler\n",
    "\n",
    "lr_clf = LogisticRegression(multi_class='multinomial',max_iter=1000, tol=0.001)\n",
    "\n",
    "X_train, X_test, y_train, y_test = train_test_split(feature_matrix,labels,test_size=0.2,random_state=42)\n",
    "sclr = StandardScaler()\n",
    "X_train_scaled = sclr.fit_transform(X_train)\n",
    "X_test_scaled = sclr.transform(X_test)\n"
   ]
  },
  {
   "cell_type": "markdown",
   "metadata": {
    "colab_type": "text",
    "id": "5QqTntPq25p0"
   },
   "source": [
    "С помощью 5-кратной кросс-валидации (`GridSearchCV`) подберите оптимальное значение параметров `С` и `penalty`. Для параметра `C` используйте набор значений `np.linspace(0.01, 1, 10)`, а для `penalty` - `['l1', 'l2']`. Критерий качества `scoring = 'accuracy'`."
   ]
  },
  {
   "cell_type": "code",
   "execution_count": 20,
   "metadata": {
    "colab": {
     "autoexec": {
      "startup": false,
      "wait_interval": 0
     }
    },
    "colab_type": "code",
    "id": "j-M-porJ25p0"
   },
   "outputs": [
    {
     "data": {
      "text/plain": [
       "GridSearchCV(cv=5, error_score='raise-deprecating',\n",
       "       estimator=LogisticRegression(C=1.0, class_weight=None, dual=False, fit_intercept=True,\n",
       "          intercept_scaling=1, max_iter=1000, multi_class='multinomial',\n",
       "          n_jobs=None, penalty='l2', random_state=None, solver='warn',\n",
       "          tol=0.001, verbose=0, warm_start=False),\n",
       "       fit_params=None, iid='warn', n_jobs=None,\n",
       "       param_grid={'C': array([0.01, 0.12, 0.23, 0.34, 0.45, 0.56, 0.67, 0.78, 0.89, 1.  ]), 'solver': ['sag', 'saga']},\n",
       "       pre_dispatch='2*n_jobs', refit=True, return_train_score='warn',\n",
       "       scoring='accuracy', verbose=0)"
      ]
     },
     "execution_count": 20,
     "metadata": {},
     "output_type": "execute_result"
    }
   ],
   "source": [
    "from sklearn.model_selection import GridSearchCV\n",
    "\n",
    "param_grid = {\n",
    "    'C': np.linspace(0.01, 1, 10),\n",
    "    'solver': ['sag','saga']\n",
    "}\n",
    "grid = GridSearchCV(lr_clf,param_grid,cv=5, scoring='accuracy')\n",
    "grid.fit(X_train_scaled,y_train)"
   ]
  },
  {
   "cell_type": "code",
   "execution_count": 21,
   "metadata": {},
   "outputs": [
    {
     "name": "stderr",
     "output_type": "stream",
     "text": [
      "C:\\Users\\priboi\\Anaconda3\\lib\\site-packages\\sklearn\\utils\\deprecation.py:125: FutureWarning: You are accessing a training score ('split0_train_score'), which will not be available by default any more in 0.21. If you need training scores, please set return_train_score=True\n",
      "  warnings.warn(*warn_args, **warn_kwargs)\n",
      "C:\\Users\\priboi\\Anaconda3\\lib\\site-packages\\sklearn\\utils\\deprecation.py:125: FutureWarning: You are accessing a training score ('split1_train_score'), which will not be available by default any more in 0.21. If you need training scores, please set return_train_score=True\n",
      "  warnings.warn(*warn_args, **warn_kwargs)\n",
      "C:\\Users\\priboi\\Anaconda3\\lib\\site-packages\\sklearn\\utils\\deprecation.py:125: FutureWarning: You are accessing a training score ('split2_train_score'), which will not be available by default any more in 0.21. If you need training scores, please set return_train_score=True\n",
      "  warnings.warn(*warn_args, **warn_kwargs)\n",
      "C:\\Users\\priboi\\Anaconda3\\lib\\site-packages\\sklearn\\utils\\deprecation.py:125: FutureWarning: You are accessing a training score ('split3_train_score'), which will not be available by default any more in 0.21. If you need training scores, please set return_train_score=True\n",
      "  warnings.warn(*warn_args, **warn_kwargs)\n",
      "C:\\Users\\priboi\\Anaconda3\\lib\\site-packages\\sklearn\\utils\\deprecation.py:125: FutureWarning: You are accessing a training score ('split4_train_score'), which will not be available by default any more in 0.21. If you need training scores, please set return_train_score=True\n",
      "  warnings.warn(*warn_args, **warn_kwargs)\n",
      "C:\\Users\\priboi\\Anaconda3\\lib\\site-packages\\sklearn\\utils\\deprecation.py:125: FutureWarning: You are accessing a training score ('mean_train_score'), which will not be available by default any more in 0.21. If you need training scores, please set return_train_score=True\n",
      "  warnings.warn(*warn_args, **warn_kwargs)\n",
      "C:\\Users\\priboi\\Anaconda3\\lib\\site-packages\\sklearn\\utils\\deprecation.py:125: FutureWarning: You are accessing a training score ('std_train_score'), which will not be available by default any more in 0.21. If you need training scores, please set return_train_score=True\n",
      "  warnings.warn(*warn_args, **warn_kwargs)\n"
     ]
    },
    {
     "data": {
      "text/plain": [
       "{'mean_fit_time': array([0.30220251, 0.65266037, 1.25864363, 2.59806714, 1.6428288 ,\n",
       "        3.09772539, 2.1533299 , 3.14739218, 1.96656289, 3.37598329,\n",
       "        2.04353991, 3.51911311, 2.15166192, 3.55629883, 2.20173569,\n",
       "        3.64807076, 2.25739174, 3.6620163 , 2.24599752, 3.72644763]),\n",
       " 'std_fit_time': array([0.02576317, 0.02251049, 0.02832149, 0.24447337, 0.04934607,\n",
       "        0.10778238, 0.18321709, 0.03764392, 0.04638833, 0.09655046,\n",
       "        0.04749237, 0.09817677, 0.04445416, 0.04412298, 0.05649323,\n",
       "        0.07954675, 0.07342551, 0.10784656, 0.0617217 , 0.13230972]),\n",
       " 'mean_score_time': array([0.00059261, 0.00079217, 0.00080209, 0.00099244, 0.00039325,\n",
       "        0.00079761, 0.00098839, 0.0004004 , 0.00058727, 0.00039625,\n",
       "        0.        , 0.00039878, 0.00059853, 0.00039344, 0.00039287,\n",
       "        0.00058789, 0.00019894, 0.        , 0.00059876, 0.00059814]),\n",
       " 'std_score_time': array([4.84319598e-04, 3.96277057e-04, 4.01074602e-04, 2.24136798e-05,\n",
       "        4.81720184e-04, 7.45932411e-04, 1.83508598e-05, 4.90391111e-04,\n",
       "        4.79563012e-04, 4.85326912e-04, 0.00000000e+00, 4.88402717e-04,\n",
       "        4.88694875e-04, 4.81953741e-04, 4.81268425e-04, 4.80210138e-04,\n",
       "        3.97872925e-04, 0.00000000e+00, 4.88889109e-04, 4.88384835e-04]),\n",
       " 'param_C': masked_array(data=[0.01, 0.01, 0.12, 0.12, 0.23, 0.23, 0.34, 0.34, 0.45,\n",
       "                    0.45, 0.56, 0.56, 0.67, 0.67, 0.78, 0.78, 0.89, 0.89,\n",
       "                    1.0, 1.0],\n",
       "              mask=[False, False, False, False, False, False, False, False,\n",
       "                    False, False, False, False, False, False, False, False,\n",
       "                    False, False, False, False],\n",
       "        fill_value='?',\n",
       "             dtype=object),\n",
       " 'param_solver': masked_array(data=['sag', 'saga', 'sag', 'saga', 'sag', 'saga', 'sag',\n",
       "                    'saga', 'sag', 'saga', 'sag', 'saga', 'sag', 'saga',\n",
       "                    'sag', 'saga', 'sag', 'saga', 'sag', 'saga'],\n",
       "              mask=[False, False, False, False, False, False, False, False,\n",
       "                    False, False, False, False, False, False, False, False,\n",
       "                    False, False, False, False],\n",
       "        fill_value='?',\n",
       "             dtype=object),\n",
       " 'params': [{'C': 0.01, 'solver': 'sag'},\n",
       "  {'C': 0.01, 'solver': 'saga'},\n",
       "  {'C': 0.12, 'solver': 'sag'},\n",
       "  {'C': 0.12, 'solver': 'saga'},\n",
       "  {'C': 0.23, 'solver': 'sag'},\n",
       "  {'C': 0.23, 'solver': 'saga'},\n",
       "  {'C': 0.34, 'solver': 'sag'},\n",
       "  {'C': 0.34, 'solver': 'saga'},\n",
       "  {'C': 0.45, 'solver': 'sag'},\n",
       "  {'C': 0.45, 'solver': 'saga'},\n",
       "  {'C': 0.56, 'solver': 'sag'},\n",
       "  {'C': 0.56, 'solver': 'saga'},\n",
       "  {'C': 0.67, 'solver': 'sag'},\n",
       "  {'C': 0.67, 'solver': 'saga'},\n",
       "  {'C': 0.78, 'solver': 'sag'},\n",
       "  {'C': 0.78, 'solver': 'saga'},\n",
       "  {'C': 0.89, 'solver': 'sag'},\n",
       "  {'C': 0.89, 'solver': 'saga'},\n",
       "  {'C': 1.0, 'solver': 'sag'},\n",
       "  {'C': 1.0, 'solver': 'saga'}],\n",
       " 'split0_test_score': array([0.7147311 , 0.71395168, 0.71862822, 0.71784879, 0.72174591,\n",
       "        0.72096648, 0.72018706, 0.72174591, 0.72174591, 0.72096648,\n",
       "        0.72096648, 0.72096648, 0.72174591, 0.72174591, 0.72174591,\n",
       "        0.72096648, 0.72174591, 0.72096648, 0.72096648, 0.72096648]),\n",
       " 'split1_test_score': array([0.69945355, 0.69945355, 0.70882123, 0.70882123, 0.71116315,\n",
       "        0.71116315, 0.71116315, 0.71116315, 0.71350507, 0.71194379,\n",
       "        0.71506635, 0.71194379, 0.71506635, 0.71272443, 0.71740827,\n",
       "        0.71428571, 0.71740827, 0.71506635, 0.71740827, 0.71506635]),\n",
       " 'split2_test_score': array([0.70390625, 0.70390625, 0.69921875, 0.70078125, 0.703125  ,\n",
       "        0.70078125, 0.7046875 , 0.7046875 , 0.70390625, 0.70390625,\n",
       "        0.7046875 , 0.703125  , 0.70390625, 0.703125  , 0.70234375,\n",
       "        0.70390625, 0.70234375, 0.703125  , 0.70234375, 0.703125  ]),\n",
       " 'split3_test_score': array([0.70031299, 0.70109546, 0.7057903 , 0.70500782, 0.70500782,\n",
       "        0.70422535, 0.70657277, 0.7057903 , 0.70813772, 0.70422535,\n",
       "        0.70813772, 0.70657277, 0.70813772, 0.70735524, 0.70813772,\n",
       "        0.70813772, 0.70892019, 0.70813772, 0.70892019, 0.70813772]),\n",
       " 'split4_test_score': array([0.7143975 , 0.71517997, 0.72535211, 0.72613459, 0.72535211,\n",
       "        0.72535211, 0.72613459, 0.72535211, 0.72535211, 0.72613459,\n",
       "        0.72691706, 0.72535211, 0.72535211, 0.72456964, 0.72535211,\n",
       "        0.72535211, 0.72535211, 0.72613459, 0.72535211, 0.72613459]),\n",
       " 'mean_test_score': array([0.7065625 , 0.70671875, 0.7115625 , 0.71171875, 0.71328125,\n",
       "        0.7125    , 0.71375   , 0.71375   , 0.71453125, 0.7134375 ,\n",
       "        0.71515625, 0.71359375, 0.71484375, 0.71390625, 0.715     ,\n",
       "        0.71453125, 0.71515625, 0.7146875 , 0.715     , 0.7146875 ]),\n",
       " 'std_test_score': array([0.00670524, 0.00657609, 0.00930648, 0.00914499, 0.0088688 ,\n",
       "        0.00942601, 0.00818449, 0.00837337, 0.00804785, 0.00889484,\n",
       "        0.00813295, 0.00841503, 0.00803223, 0.00819288, 0.0085512 ,\n",
       "        0.00790167, 0.00843068, 0.00833087, 0.00831351, 0.00833087]),\n",
       " 'rank_test_score': array([20, 19, 18, 17, 15, 16, 11, 11,  8, 14,  1, 13,  5, 10,  3,  8,  1,\n",
       "         6,  3,  6]),\n",
       " 'split0_train_score': array([0.70783662, 0.70744577, 0.7178034 , 0.71819425, 0.72014852,\n",
       "        0.71956224, 0.72112566, 0.71975767, 0.72093023, 0.72034395,\n",
       "        0.72190737, 0.72053938, 0.72210279, 0.72053938, 0.72249365,\n",
       "        0.72112566, 0.72249365, 0.72112566, 0.72249365, 0.72171194]),\n",
       " 'split1_train_score': array([0.71244384, 0.71224849, 0.72123462, 0.72064856, 0.72162532,\n",
       "        0.72201602, 0.72142997, 0.72084391, 0.72142997, 0.72103927,\n",
       "        0.72162532, 0.72123462, 0.72182067, 0.72123462, 0.72279742,\n",
       "        0.72123462, 0.72299277, 0.72103927, 0.72279742, 0.72103927]),\n",
       " 'split2_train_score': array([0.71152344, 0.71132812, 0.7203125 , 0.71933594, 0.72128906,\n",
       "        0.71992188, 0.72304687, 0.72109375, 0.72402344, 0.72226563,\n",
       "        0.7234375 , 0.72285156, 0.72382813, 0.72304687, 0.72382813,\n",
       "        0.72265625, 0.72382813, 0.72304687, 0.72441406, 0.7234375 ]),\n",
       " 'split3_train_score': array([0.71105037, 0.71105037, 0.72237407, 0.72276455, 0.72471691,\n",
       "        0.72374073, 0.72471691, 0.72393596, 0.72471691, 0.72432643,\n",
       "        0.72530262, 0.72393596, 0.72530262, 0.7241312 , 0.72530262,\n",
       "        0.7241312 , 0.72471691, 0.7241312 , 0.72530262, 0.72452167]),\n",
       " 'split4_train_score': array([0.70987895, 0.71026943, 0.71788364, 0.71749317, 0.71807888,\n",
       "        0.71925029, 0.71846935, 0.71827411, 0.71905506, 0.7176884 ,\n",
       "        0.71964077, 0.71807888, 0.72022647, 0.71846935, 0.72003124,\n",
       "        0.71846935, 0.71964077, 0.71885982, 0.719836  , 0.71925029]),\n",
       " 'mean_train_score': array([0.71054664, 0.71046844, 0.71992165, 0.71968729, 0.72117174,\n",
       "        0.72089823, 0.72175775, 0.72078108, 0.72203112, 0.72113274,\n",
       "        0.72238271, 0.72132808, 0.72265614, 0.72148428, 0.72289061,\n",
       "        0.72152341, 0.72273444, 0.72164056, 0.72296875, 0.72199213]),\n",
       " 'std_train_score': array([0.00158728, 0.00163844, 0.00181832, 0.00187405, 0.00216335,\n",
       "        0.00171948, 0.00208514, 0.00186479, 0.00207909, 0.00218986,\n",
       "        0.00189506, 0.00201545, 0.00174842, 0.00197448, 0.0017343 ,\n",
       "        0.00187898, 0.00172174, 0.0018188 , 0.00187644, 0.00184346])}"
      ]
     },
     "execution_count": 21,
     "metadata": {},
     "output_type": "execute_result"
    }
   ],
   "source": [
    "grid.cv_results_"
   ]
  },
  {
   "cell_type": "markdown",
   "metadata": {
    "colab_type": "text",
    "id": "rzsRzpiv25p2"
   },
   "source": [
    "Постройте графики средних значений критерия качества `accuracy` для типов регуляризации `l1` и `l2` в зависимости от коэффициента регуляризации `C`."
   ]
  },
  {
   "cell_type": "code",
   "execution_count": 23,
   "metadata": {
    "colab": {
     "autoexec": {
      "startup": false,
      "wait_interval": 0
     }
    },
    "colab_type": "code",
    "id": "nYOrtHpy25p3"
   },
   "outputs": [
    {
     "name": "stdout",
     "output_type": "stream",
     "text": [
      "[0.7065625  0.70671875 0.7115625  0.71171875 0.71328125 0.7125\n",
      " 0.71375    0.71375    0.71453125 0.7134375  0.71515625 0.71359375\n",
      " 0.71484375 0.71390625 0.715      0.71453125 0.71515625 0.7146875\n",
      " 0.715      0.7146875 ]\n",
      "[0.70671875 0.71171875 0.7125     0.71375    0.7134375  0.71359375\n",
      " 0.71390625 0.71453125 0.7146875  0.7146875 ]\n",
      "[0.7065625  0.7115625  0.71328125 0.71375    0.71453125 0.71515625\n",
      " 0.71484375 0.715      0.71515625 0.715     ]\n"
     ]
    },
    {
     "data": {
      "text/plain": [
       "Text(0.5, 1.0, 'accuracy score with L2 regularization')"
      ]
     },
     "execution_count": 23,
     "metadata": {},
     "output_type": "execute_result"
    },
    {
     "data": {
      "image/png": "[encoded data removed]",
      "text/plain": [
       "<Figure size 1152x360 with 2 Axes>"
      ]
     },
     "metadata": {
      "needs_background": "light"
     },
     "output_type": "display_data"
    }
   ],
   "source": [
    "import matplotlib.pyplot as plt\n",
    "\n",
    "x_c = np.linspace(0.01, 1, 10)\n",
    "print(grid.cv_results_['mean_test_score'])\n",
    "y_l1 = grid.cv_results_['mean_test_score'][1::2]\n",
    "y_l2 = grid.cv_results_['mean_test_score'][::2]\n",
    "print(y_l1)\n",
    "print(y_l2)\n",
    "\n",
    "fig, axes = plt.subplots(nrows=1, ncols=2, figsize=(16, 5))\n",
    "axes[0].plot(x_c, y_l1, 'r')\n",
    "axes[0].set_xlabel('c')\n",
    "axes[0].set_ylabel('accuracy')\n",
    "axes[0].set_title(f'accuracy score with L1 regularization', fontsize=16)\n",
    "axes[1].plot(x_c, y_l2, 'r')\n",
    "axes[1].set_xlabel('c')\n",
    "axes[1].set_ylabel('accuracy')\n",
    "axes[1].set_title(f'accuracy score with L2 regularization', fontsize=16)"
   ]
  },
  {
   "cell_type": "markdown",
   "metadata": {
    "colab_type": "text",
    "id": "IQraNf0M25p5"
   },
   "source": [
    "Проанализируйте полученные графики. Чему равны найденные оптимальные значения параметров `C` и `penalty`?"
   ]
  },
  {
   "cell_type": "code",
   "execution_count": 24,
   "metadata": {
    "colab": {
     "autoexec": {
      "startup": false,
      "wait_interval": 0
     }
    },
    "colab_type": "code",
    "id": "BkT1RWJj25p7"
   },
   "outputs": [
    {
     "name": "stdout",
     "output_type": "stream",
     "text": [
      "0.56\n",
      "l2\n"
     ]
    }
   ],
   "source": [
    "# Видим, что при увеличении коэффициента регуляризации увеличивается средняя точность на тестовой выборке\n",
    "print(grid.best_estimator_.C)\n",
    "print(grid.best_estimator_.penalty)"
   ]
  },
  {
   "cell_type": "markdown",
   "metadata": {
    "colab_type": "text",
    "id": "uIX7uVYk25p9"
   },
   "source": [
    "Используя найденные оптимальные значения `C` и `penalty`, обучите логистическую регрессию на обучающей выборке (train) и вычислите вероятности принадлежности к классам для тестовой (test)  выборки (`best_lr_clf.predict_proba`)."
   ]
  },
  {
   "cell_type": "code",
   "execution_count": 26,
   "metadata": {
    "colab": {
     "autoexec": {
      "startup": false,
      "wait_interval": 0
     }
    },
    "colab_type": "code",
    "id": "1rDNazlC25p9"
   },
   "outputs": [],
   "source": [
    "#grid.best_estimator_.fit(X_train_scaled,y_train)\n",
    "probs_matrix = grid.best_estimator_.predict_proba(X_test_scaled)"
   ]
  },
  {
   "cell_type": "markdown",
   "metadata": {
    "colab_type": "text",
    "id": "Ck7T2dGQ25p_"
   },
   "source": [
    "Для полученной матрицы вычислите усредненные по всем объектам из тестовой выборки значения вероятностей принадлежности к классам. Сравните ее оценкой вероятности принадлежности к классу на основе частот меток классов в обучающей выборке."
   ]
  },
  {
   "cell_type": "code",
   "execution_count": 27,
   "metadata": {
    "colab": {
     "autoexec": {
      "startup": false,
      "wait_interval": 0
     }
    },
    "colab_type": "code",
    "id": "JOf0BNix25qA"
   },
   "outputs": [
    {
     "name": "stdout",
     "output_type": "stream",
     "text": [
      "[0.35960783 0.4879621  0.06603748 0.00564898 0.01812308 0.03216561\n",
      " 0.03045491]\n",
      "[0.37046875 0.48671875 0.05796875 0.004375   0.01765625 0.0296875\n",
      " 0.033125  ]\n"
     ]
    }
   ],
   "source": [
    "print(probs_matrix.mean(axis=0))\n",
    "print(np.unique(y_train, return_counts=True)[1]/X_train.shape[0])"
   ]
  },
  {
   "cell_type": "markdown",
   "metadata": {
    "colab_type": "text",
    "id": "VYogShkD25qD"
   },
   "source": [
    "#### 2.3 Многоклассовая классификация: kNN (30%)."
   ]
  },
  {
   "cell_type": "markdown",
   "metadata": {
    "colab_type": "text",
    "id": "BHVNCaJ325qD"
   },
   "source": [
    "Вспомним первое занятие. Обучите на том же датасете `KNeighborsClassifier` из `sklearn`."
   ]
  },
  {
   "cell_type": "code",
   "execution_count": 28,
   "metadata": {
    "colab": {
     "autoexec": {
      "startup": false,
      "wait_interval": 0
     }
    },
    "colab_type": "code",
    "id": "o4CMnnOY25qD"
   },
   "outputs": [],
   "source": [
    "from sklearn.neighbors import KNeighborsClassifier\n",
    "\n",
    "knn_clsfr = KNeighborsClassifier()"
   ]
  },
  {
   "cell_type": "markdown",
   "metadata": {
    "colab_type": "text",
    "id": "Yl_foM3u25qF"
   },
   "source": [
    "Попробуйте использовать различные стратегии вычисления весов: `[‘uniform’, ‘distance’]`. Выберите одно из них самостоятельно. Чем обоснован Ваш выбор?"
   ]
  },
  {
   "cell_type": "markdown",
   "metadata": {
    "colab_type": "text",
    "id": "8WzoRJZd25qF"
   },
   "source": [
    "Переберите по сетке от `1` до `10` параметр числа соседей. Покажите на графике, как менялись значения критерия качества `accuracy` при изменении числа соседей."
   ]
  },
  {
   "cell_type": "code",
   "execution_count": 29,
   "metadata": {
    "colab": {
     "autoexec": {
      "startup": false,
      "wait_interval": 0
     }
    },
    "colab_type": "code",
    "id": "4lMSy-6f25qG"
   },
   "outputs": [
    {
     "data": {
      "text/plain": [
       "GridSearchCV(cv=5, error_score='raise-deprecating',\n",
       "       estimator=KNeighborsClassifier(algorithm='auto', leaf_size=30, metric='minkowski',\n",
       "           metric_params=None, n_jobs=None, n_neighbors=5, p=2,\n",
       "           weights='uniform'),\n",
       "       fit_params=None, iid='warn', n_jobs=None,\n",
       "       param_grid={'n_neighbors': array([ 1,  2,  3,  4,  5,  6,  7,  8,  9, 10]), 'weights': ['uniform', 'distance']},\n",
       "       pre_dispatch='2*n_jobs', refit=True, return_train_score='warn',\n",
       "       scoring='accuracy', verbose=0)"
      ]
     },
     "execution_count": 29,
     "metadata": {},
     "output_type": "execute_result"
    }
   ],
   "source": [
    "param_grid_knn = {\n",
    "    'n_neighbors': np.arange(1,11),\n",
    "    'weights': ['uniform','distance']\n",
    "}\n",
    "grid_knn = GridSearchCV(knn_clsfr,param_grid_knn,cv=5, scoring='accuracy')\n",
    "grid_knn.fit(X_train,y_train)"
   ]
  },
  {
   "cell_type": "code",
   "execution_count": 30,
   "metadata": {},
   "outputs": [
    {
     "data": {
      "text/plain": [
       "Text(0.5, 1.0, \"Accuracy with distance param 'uniform'\")"
      ]
     },
     "execution_count": 30,
     "metadata": {},
     "output_type": "execute_result"
    },
    {
     "data": {
      "image/png": "[encoded data removed]",
      "text/plain": [
       "<Figure size 1152x360 with 2 Axes>"
      ]
     },
     "metadata": {
      "needs_background": "light"
     },
     "output_type": "display_data"
    }
   ],
   "source": [
    "x_knn = np.arange(1,11)\n",
    "y_dist = grid_knn.cv_results_['mean_test_score'][::2]\n",
    "y_uni = grid_knn.cv_results_['mean_test_score'][1::2]\n",
    "\n",
    "fig, axes = plt.subplots(nrows=1, ncols=2, figsize=(16, 5))\n",
    "axes[0].plot(x_knn, y_dist, 'r')\n",
    "axes[0].set_xlabel('n_neighbors')\n",
    "axes[0].set_ylabel('accuracy')\n",
    "axes[0].set_title(f\"Accuracy with distance param 'distance'\", fontsize=16)\n",
    "axes[1].plot(x_knn, y_uni, 'r')\n",
    "axes[1].set_xlabel('n_neighbors')\n",
    "axes[1].set_ylabel('accuracy')\n",
    "axes[1].set_title(f\"Accuracy with distance param 'uniform'\", fontsize=16)"
   ]
  },
  {
   "cell_type": "markdown",
   "metadata": {
    "colab_type": "text",
    "id": "aBmiDbvV25qI"
   },
   "source": [
    "Используя найденное оптимальное число соседей, вычислите вероятности принадлежности к классам для тестовой выборки (`.predict_proba`)."
   ]
  },
  {
   "cell_type": "code",
   "execution_count": 31,
   "metadata": {
    "colab": {
     "autoexec": {
      "startup": false,
      "wait_interval": 0
     }
    },
    "colab_type": "code",
    "id": "ig_vS8O925qI"
   },
   "outputs": [
    {
     "data": {
      "text/plain": [
       "array([[0., 1., 0., ..., 0., 0., 0.],\n",
       "       [1., 0., 0., ..., 0., 0., 0.],\n",
       "       [0., 1., 0., ..., 0., 0., 0.],\n",
       "       ...,\n",
       "       [0., 1., 0., ..., 0., 0., 0.],\n",
       "       [1., 0., 0., ..., 0., 0., 0.],\n",
       "       [1., 0., 0., ..., 0., 0., 0.]])"
      ]
     },
     "execution_count": 31,
     "metadata": {},
     "output_type": "execute_result"
    }
   ],
   "source": [
    "grid_knn.best_estimator_.predict_proba(X_test)"
   ]
  },
  {
   "cell_type": "markdown",
   "metadata": {
    "colab_type": "text",
    "id": "p41xvYTU25qK"
   },
   "source": [
    "#### 2.4 Сравнение результатов логистической регрессии и kNN (10%).\n",
    "\n",
    "В реальной жизни новые данные становятся доступны с течением времени. Сравните качество Вашей лучшей модели логистической регресии и лучшего kNN  на отложенной выборке `delayed_data`. Какая из моделей показала лучший результат?"
   ]
  },
  {
   "cell_type": "code",
   "execution_count": 32,
   "metadata": {
    "colab": {
     "autoexec": {
      "startup": false,
      "wait_interval": 0
     }
    },
    "colab_type": "code",
    "id": "xJFKTJx425qL"
   },
   "outputs": [
    {
     "name": "stdout",
     "output_type": "stream",
     "text": [
      "KNN prediction: 0.7585\n",
      "Logreg prediction: 0.725\n"
     ]
    },
    {
     "name": "stderr",
     "output_type": "stream",
     "text": [
      "C:\\Users\\priboi\\Anaconda3\\lib\\site-packages\\sklearn\\utils\\validation.py:595: DataConversionWarning: Data with input dtype int64 was converted to float64 by StandardScaler.\n",
      "  warnings.warn(msg, DataConversionWarning)\n"
     ]
    }
   ],
   "source": [
    "y_delayed = delayed_data[delayed_data.columns[-1]].values\n",
    "X_delayed = delayed_data[delayed_data.columns[:-1]].values\n",
    "#print(y_delayed)\n",
    "#print(X_delayed)\n",
    "print('KNN prediction:',accuracy_score(y_delayed,grid_knn.best_estimator_.predict(X_delayed)))\n",
    "print('Logreg prediction:',accuracy_score(y_delayed,grid.best_estimator_.predict(sclr.transform(X_delayed))))"
   ]
  },
  {
   "cell_type": "markdown",
   "metadata": {},
   "source": [
    "Как видим, метод ближайшего соседа(где число соседей равно единице) в данном случае сработал лучше."
   ]
  }
 ],
 "metadata": {
  "colab": {
   "collapsed_sections": [
    "dKCiU0wz25pj",
    "9MKHZ2JC25pv",
    "VYogShkD25qD",
    "p41xvYTU25qK"
   ],
   "default_view": {},
   "name": "HW1_Logistic_regression_and_SVM.ipynb",
   "provenance": [],
   "version": "0.3.2",
   "views": {}
  },
  "kernelspec": {
   "display_name": "Python 3",
   "language": "python",
   "name": "python3"
  },
  "language_info": {
   "codemirror_mode": {
    "name": "ipython",
    "version": 3
   },
   "file_extension": ".py",
   "mimetype": "text/x-python",
   "name": "python",
   "nbconvert_exporter": "python",
   "pygments_lexer": "ipython3",
   "version": "3.6.8"
  }
 },
 "nbformat": 4,
 "nbformat_minor": 1
}
